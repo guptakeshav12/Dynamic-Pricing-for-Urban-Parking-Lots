{
  "nbformat": 4,
  "nbformat_minor": 0,
  "metadata": {
    "colab": {
      "provenance": []
    },
    "kernelspec": {
      "name": "python3",
      "display_name": "Python 3"
    },
    "language_info": {
      "name": "python"
    }
  },
  "cells": [
    {
      "cell_type": "code",
      "execution_count": null,
      "metadata": {
        "id": "9IFTDKTYJvS1"
      },
      "outputs": [],
      "source": [
        "import pandas as pd\n",
        "import numpy as np\n",
        "import matplotlib.pyplot as plt\n",
        "from geopy.distance import geodesic\n",
        "from bokeh.plotting import figure, output_notebook, show\n",
        "from bokeh.models import ColumnDataSource\n",
        "import time"
      ]
    },
    {
      "cell_type": "code",
      "source": [
        "df = pd.read_csv(\"dataset.csv\")\n",
        "df = df.sort_values(by=[\"LastUpdatedDate\", \"LastUpdatedTime\", \"SystemCodeNumber\"]).reset_index(drop=True)\n",
        "df[\"Price\"] = 10.0  # Initial base price"
      ],
      "metadata": {
        "id": "9n0f3GXEJ1C5"
      },
      "execution_count": null,
      "outputs": []
    },
    {
      "cell_type": "code",
      "source": [
        "def demand_based_price(base_price, occupancy, capacity, queue, traffic, special_day, vehicle_type,\n",
        "                       weights, lambda_=0.5):\n",
        "    demand = (\n",
        "        weights['occupancy'] * (occupancy / capacity) +\n",
        "        weights['queue'] * queue -\n",
        "        weights['traffic'] * traffic +\n",
        "        weights['special_day'] * special_day +\n",
        "        weights['vehicle_type'] * vehicle_type_weights.get(vehicle_type, 1.0)\n",
        "    )\n",
        "    norm_demand = max(0, min(demand, 1))\n",
        "    price = base_price * (1 + lambda_ * norm_demand)\n",
        "    return max(base_price * 0.5, min(price, base_price * 2))"
      ],
      "metadata": {
        "id": "jTVx1r66J5J2"
      },
      "execution_count": null,
      "outputs": []
    },
    {
      "cell_type": "code",
      "source": [
        "def baseline_price(prev_price, occupancy, capacity, alpha=2.0):\n",
        "    return prev_price + alpha * (occupancy / capacity)"
      ],
      "metadata": {
        "id": "Xm-KxyJDJ9xN"
      },
      "execution_count": null,
      "outputs": []
    },
    {
      "cell_type": "code",
      "source": [
        "def get_nearby_lots(current_lot, all_lots, max_distance_km=0.5):\n",
        "    current_coords = (all_lots[current_lot][\"Latitude\"], all_lots[current_lot][\"Longitude\"])\n",
        "    nearby = []\n",
        "    for other_lot, coords in all_lots.items():\n",
        "        if other_lot != current_lot:\n",
        "            dist = geodesic(current_coords, (coords[\"Latitude\"], coords[\"Longitude\"])).km\n",
        "            if dist <= max_distance_km:\n",
        "                nearby.append(other_lot)\n",
        "    return nearby\n"
      ],
      "metadata": {
        "id": "B39LgBTMKB5t"
      },
      "execution_count": null,
      "outputs": []
    },
    {
      "cell_type": "code",
      "source": [
        "lot_locations = df.groupby(\"SystemCodeNumber\")[[\"Latitude\", \"Longitude\"]].first().to_dict(\"index\")\n",
        "weights = {'occupancy': 0.5, 'queue': 0.2, 'traffic': 0.1, 'special_day': 0.3, 'vehicle_type': 0.4}\n",
        "prev_prices = {lot: 10.0 for lot in df[\"SystemCodeNumber\"].unique()}\n",
        "\n",
        "updated_prices = []\n",
        "\n",
        "for i in range(len(df)):\n",
        "    row = df.loc[i]\n",
        "    lot_id = row[\"SystemCodeNumber\"]\n",
        "    occupancy, capacity = row[\"Occupancy\"], row[\"Capacity\"]\n",
        "    queue, traffic = row[\"QueueLength\"], row[\"TrafficConditionNearby\"] # Get the traffic condition string\n",
        "    special_day, vehicle_type = row[\"IsSpecialDay\"], row[\"VehicleType\"]\n",
        "    base_price = prev_prices[lot_id]\n",
        "\n",
        "    # Convert traffic condition to a numerical value for the demand calculation\n",
        "    traffic_value = 0\n",
        "    if traffic == 'low':\n",
        "        traffic_value = 0.1\n",
        "    elif traffic == 'average':\n",
        "        traffic_value = 0.5\n",
        "    elif traffic == 'high':\n",
        "        traffic_value = 1.0\n",
        "\n",
        "    # Demand-based pricing\n",
        "    price = demand_based_price(base_price, occupancy, capacity, queue, traffic_value, special_day,\n",
        "                               vehicle_type, weights)\n",
        "\n",
        "    # Competitive adjustment\n",
        "    # Ensure the lot_locations dictionary has all unique lot IDs from the DataFrame\n",
        "    # If not, you might need to update it or handle missing keys\n",
        "    nearby_lots = get_nearby_lots(lot_id, lot_locations)\n",
        "    cheaper_competitor = any(prev_prices.get(n, 10.0) < price for n in nearby_lots)\n",
        "    if occupancy >= capacity and cheaper_competitor:\n",
        "        price *= 0.95\n",
        "    elif all(prev_prices.get(n, 10.0) > price for n in nearby_lots):\n",
        "        price *= 1.05\n",
        "\n",
        "    price = max(5, min(price, 20))\n",
        "    updated_prices.append(price)\n",
        "    prev_prices[lot_id] = price\n",
        "\n",
        "df[\"UpdatedPrice\"] = updated_prices"
      ],
      "metadata": {
        "id": "RuAhfw_fKF9U"
      },
      "execution_count": null,
      "outputs": []
    },
    {
      "cell_type": "code",
      "source": [
        "lot_id = df[\"SystemCodeNumber\"].unique()[0]\n",
        "lot_df = df[df[\"SystemCodeNumber\"] == lot_id].reset_index(drop=True)\n",
        "\n",
        "source = ColumnDataSource(data=dict(x=[], y=[]))\n",
        "p = figure(title=f\"Real-Time Pricing – Lot {lot_id}\", x_axis_label=\"Time Step\", y_axis_label=\"Price\")\n",
        "p.line('x', 'y', source=source, line_width=2)\n",
        "output_notebook() # Add this line to display the plot in the notebook\n",
        "show(p)\n",
        "\n",
        "for i in range(len(lot_df)):\n",
        "    # Assuming 'UpdatedPrice' column exists from previous calculations\n",
        "    current_price = lot_df.loc[i, \"UpdatedPrice\"]\n",
        "    new_data = {'x': [i], 'y': [current_price]}\n",
        "    source.stream(new_data, rollover=100)\n",
        "    print(f\"⏱️ Time Step: {i}, Price: {round(current_price, 2)}\")\n",
        "    time.sleep(0.2)\n"
      ],
      "metadata": {
        "id": "wDMpSY67KGAv"
      },
      "execution_count": null,
      "outputs": []
    },
    {
      "cell_type": "code",
      "source": [
        "occupancy = lot_df.loc[i, \"Occupancy\"]\n",
        "queue = lot_df.loc[i, \"QueueLength\"]\n",
        "traffic = lot_df.loc[i, \"TrafficConditionNearby\"]\n",
        "\n",
        "print(f\"⏱️ Time Step: {i}, Price: {round(current_price, 2)}, Occupancy: {occupancy}, Queue: {queue}, Traffic: {traffic}\")"
      ],
      "metadata": {
        "id": "aEXP-KJvKVr7"
      },
      "execution_count": null,
      "outputs": []
    },
    {
      "cell_type": "code",
      "source": [],
      "metadata": {
        "id": "ayg9RnmsKVxw"
      },
      "execution_count": null,
      "outputs": []
    }
  ]
}